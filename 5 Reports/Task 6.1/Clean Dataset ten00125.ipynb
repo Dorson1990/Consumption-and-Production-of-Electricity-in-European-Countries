{
 "cells": [
  {
   "cell_type": "markdown",
   "id": "a8bd821d",
   "metadata": {},
   "source": [
    "# Load libraries and data sets"
   ]
  },
  {
   "cell_type": "code",
   "execution_count": 1,
   "id": "c6fd188a",
   "metadata": {},
   "outputs": [],
   "source": [
    "# Load libraries\n",
    "import pandas as pd\n",
    "import numpy as np\n",
    "import os\n",
    "import matplotlib.pyplot as plt"
   ]
  },
  {
   "cell_type": "code",
   "execution_count": 6,
   "id": "b300b810",
   "metadata": {},
   "outputs": [
    {
     "data": {
      "text/html": [
       "<div>\n",
       "<style scoped>\n",
       "    .dataframe tbody tr th:only-of-type {\n",
       "        vertical-align: middle;\n",
       "    }\n",
       "\n",
       "    .dataframe tbody tr th {\n",
       "        vertical-align: top;\n",
       "    }\n",
       "\n",
       "    .dataframe thead th {\n",
       "        text-align: right;\n",
       "    }\n",
       "</style>\n",
       "<table border=\"1\" class=\"dataframe\">\n",
       "  <thead>\n",
       "    <tr style=\"text-align: right;\">\n",
       "      <th></th>\n",
       "      <th>DATAFLOW</th>\n",
       "      <th>LAST UPDATE</th>\n",
       "      <th>freq</th>\n",
       "      <th>nrg_bal</th>\n",
       "      <th>siec</th>\n",
       "      <th>unit</th>\n",
       "      <th>geo</th>\n",
       "      <th>TIME_PERIOD</th>\n",
       "      <th>OBS_VALUE</th>\n",
       "      <th>OBS_FLAG</th>\n",
       "    </tr>\n",
       "  </thead>\n",
       "  <tbody>\n",
       "    <tr>\n",
       "      <th>0</th>\n",
       "      <td>ESTAT:TEN00125(1.0)</td>\n",
       "      <td>14/04/22 11:00:00</td>\n",
       "      <td>A</td>\n",
       "      <td>FC_OTH_HH_E</td>\n",
       "      <td>C0000X0350-0370</td>\n",
       "      <td>KTOE</td>\n",
       "      <td>AL</td>\n",
       "      <td>2009</td>\n",
       "      <td>0.000</td>\n",
       "      <td>NaN</td>\n",
       "    </tr>\n",
       "    <tr>\n",
       "      <th>1</th>\n",
       "      <td>ESTAT:TEN00125(1.0)</td>\n",
       "      <td>14/04/22 11:00:00</td>\n",
       "      <td>A</td>\n",
       "      <td>FC_OTH_HH_E</td>\n",
       "      <td>C0000X0350-0370</td>\n",
       "      <td>KTOE</td>\n",
       "      <td>AL</td>\n",
       "      <td>2010</td>\n",
       "      <td>0.000</td>\n",
       "      <td>NaN</td>\n",
       "    </tr>\n",
       "    <tr>\n",
       "      <th>2</th>\n",
       "      <td>ESTAT:TEN00125(1.0)</td>\n",
       "      <td>14/04/22 11:00:00</td>\n",
       "      <td>A</td>\n",
       "      <td>FC_OTH_HH_E</td>\n",
       "      <td>C0000X0350-0370</td>\n",
       "      <td>KTOE</td>\n",
       "      <td>AL</td>\n",
       "      <td>2011</td>\n",
       "      <td>0.000</td>\n",
       "      <td>NaN</td>\n",
       "    </tr>\n",
       "    <tr>\n",
       "      <th>3</th>\n",
       "      <td>ESTAT:TEN00125(1.0)</td>\n",
       "      <td>14/04/22 11:00:00</td>\n",
       "      <td>A</td>\n",
       "      <td>FC_OTH_HH_E</td>\n",
       "      <td>C0000X0350-0370</td>\n",
       "      <td>KTOE</td>\n",
       "      <td>AL</td>\n",
       "      <td>2012</td>\n",
       "      <td>0.235</td>\n",
       "      <td>NaN</td>\n",
       "    </tr>\n",
       "    <tr>\n",
       "      <th>4</th>\n",
       "      <td>ESTAT:TEN00125(1.0)</td>\n",
       "      <td>14/04/22 11:00:00</td>\n",
       "      <td>A</td>\n",
       "      <td>FC_OTH_HH_E</td>\n",
       "      <td>C0000X0350-0370</td>\n",
       "      <td>KTOE</td>\n",
       "      <td>AL</td>\n",
       "      <td>2013</td>\n",
       "      <td>0.235</td>\n",
       "      <td>NaN</td>\n",
       "    </tr>\n",
       "  </tbody>\n",
       "</table>\n",
       "</div>"
      ],
      "text/plain": [
       "              DATAFLOW        LAST UPDATE freq      nrg_bal             siec  \\\n",
       "0  ESTAT:TEN00125(1.0)  14/04/22 11:00:00    A  FC_OTH_HH_E  C0000X0350-0370   \n",
       "1  ESTAT:TEN00125(1.0)  14/04/22 11:00:00    A  FC_OTH_HH_E  C0000X0350-0370   \n",
       "2  ESTAT:TEN00125(1.0)  14/04/22 11:00:00    A  FC_OTH_HH_E  C0000X0350-0370   \n",
       "3  ESTAT:TEN00125(1.0)  14/04/22 11:00:00    A  FC_OTH_HH_E  C0000X0350-0370   \n",
       "4  ESTAT:TEN00125(1.0)  14/04/22 11:00:00    A  FC_OTH_HH_E  C0000X0350-0370   \n",
       "\n",
       "   unit geo  TIME_PERIOD  OBS_VALUE  OBS_FLAG  \n",
       "0  KTOE  AL         2009      0.000       NaN  \n",
       "1  KTOE  AL         2010      0.000       NaN  \n",
       "2  KTOE  AL         2011      0.000       NaN  \n",
       "3  KTOE  AL         2012      0.235       NaN  \n",
       "4  KTOE  AL         2013      0.235       NaN  "
      ]
     },
     "execution_count": 6,
     "metadata": {},
     "output_type": "execute_result"
    }
   ],
   "source": [
    "# Load data set \"energy consumption in household sector\"\n",
    "path = r'/Users/gomula/Documents/Finalproject'\n",
    "consump_household = pd.read_csv(os.path.join(path, '2 Data set', 'Original', 'ten00125_linear.csv','ten00125_linear.csv'), index_col=False)\n",
    "consump_household.head()"
   ]
  },
  {
   "cell_type": "code",
   "execution_count": 7,
   "id": "9e16b1e9",
   "metadata": {},
   "outputs": [],
   "source": [
    "# remove redundant columns\n",
    "consump_household.drop(['DATAFLOW', 'LAST UPDATE', 'freq', 'OBS_FLAG', 'unit'], axis=1, inplace=True)"
   ]
  },
  {
   "cell_type": "code",
   "execution_count": 8,
   "id": "45ffb943",
   "metadata": {},
   "outputs": [],
   "source": [
    "# define the name of columns\n",
    "consump_household.rename(columns={'geo': 'country-code', 'TIME_PERIOD': 'time-period', 'OBS_VALUE': 'value(KTOE)', 'nrg_bal': 'sector'}, inplace=True)"
   ]
  },
  {
   "cell_type": "code",
   "execution_count": 9,
   "id": "ec667caf",
   "metadata": {},
   "outputs": [
    {
     "data": {
      "text/plain": [
       "45"
      ]
     },
     "execution_count": 9,
     "metadata": {},
     "output_type": "execute_result"
    }
   ],
   "source": [
    "# define the codes of countries and fuels\n",
    "country_codes = {'SK':'Slovakia', 'FI':'Finland', 'SE':'Sweden', 'IS':'Iceland','NO':'Norway', 'UK':'United Kingdom',\n",
    "                 'ME': 'Montenegro','MK':'North Macedonia', 'GE':'Georgia', 'EU27_2020':'European Union - 27 countries (from 2020)', \n",
    "                 'AL':'Albania', 'RS':'Serbia', 'TR':'Turkey', 'BA':'Bosnia and Herzegovina', 'MD':'Moldova', 'UA':'Ukraine',  \n",
    "                 'EA19':'Euro area - 19 countries (from 2015)', 'BE':'Belgium', 'BG':'Bulgaria', 'CZ':'Czechia', 'DK':'Denmark',\n",
    "                 'DE':'Germany', 'EE':'Estonia', 'IE':'Ireland', 'EL':'Greece', 'ES': 'Spain', 'FR':'France', 'HR':'Croatia',\n",
    "                 'IT':'Italy', 'CY':'Cyprus', 'LV':'Latvia', 'LT':'Lithuania', 'LU':'Luxembourg', 'HU':'Hungary', 'MT':'Malta',\n",
    "                 'NL':'Netherlands', 'AT':'Austria', 'PL':'Poland', 'PT':'Portugal', 'RO':'Romania', 'SI':'Slovenia',\n",
    "                 'EU28':'European Union - 28 countries (2013-2020)', 'LI':'Liechtenstein', 'CH':'Switzerland',\n",
    "                 'XK':'Kosovo'}\n",
    "len(country_codes)"
   ]
  },
  {
   "cell_type": "code",
   "execution_count": 10,
   "id": "c92eb61a",
   "metadata": {},
   "outputs": [
    {
     "data": {
      "text/plain": [
       "11"
      ]
     },
     "execution_count": 10,
     "metadata": {},
     "output_type": "execute_result"
    }
   ],
   "source": [
    "# define the codes of fuels\n",
    "energy_codes = {'TOTAL':'Total', 'C0000X0350-0370':'Solid fossil fuels', 'G3000':'Natural gas', 'O4630':'Liquefied petroleum gases',\n",
    "              'O4669':'Other kerosene', 'O4671XR5220B':'Gas oil and diesel oil (excluding biofuel portion)', 'RA410':'Solar thermal',\n",
    "              'RA600':'Ambient heat (heat pumps)', 'R5110-5150_W6000RI':'Primary solid biofuels', 'E7000':'Electricity', 'H8000':'Heat',\n",
    "              }\n",
    "len(energy_codes)"
   ]
  },
  {
   "cell_type": "code",
   "execution_count": 11,
   "id": "13c34cd0",
   "metadata": {},
   "outputs": [],
   "source": [
    "# define code of sectores\n",
    "sect_codes = {'FC_OTH_HH_E':'households'}"
   ]
  },
  {
   "cell_type": "code",
   "execution_count": 12,
   "id": "4261d145",
   "metadata": {},
   "outputs": [],
   "source": [
    "# replace country abbreviations by full name\n",
    "consump_household['country'] = list(map(country_codes.get, consump_household['country-code'].tolist()))"
   ]
  },
  {
   "cell_type": "code",
   "execution_count": 13,
   "id": "82d0286c",
   "metadata": {},
   "outputs": [],
   "source": [
    "# replace energy codes by complete name\n",
    "consump_household['energy-type'] = list(map(energy_codes.get, consump_household['siec'].tolist()))"
   ]
  },
  {
   "cell_type": "code",
   "execution_count": 14,
   "id": "3fb89f3a",
   "metadata": {},
   "outputs": [],
   "source": [
    "# replace sector abbreviations by full name\n",
    "consump_household['sector'] = list(map(sect_codes.get, consump_household['sector'].tolist()))"
   ]
  },
  {
   "cell_type": "code",
   "execution_count": 15,
   "id": "8a1c4f78",
   "metadata": {},
   "outputs": [],
   "source": [
    "# remove columns: siec & country\n",
    "consump_household.drop(['siec', 'country-code'], axis=1, inplace=True)"
   ]
  },
  {
   "cell_type": "code",
   "execution_count": 16,
   "id": "d81a7e56",
   "metadata": {},
   "outputs": [
    {
     "data": {
      "text/html": [
       "<div>\n",
       "<style scoped>\n",
       "    .dataframe tbody tr th:only-of-type {\n",
       "        vertical-align: middle;\n",
       "    }\n",
       "\n",
       "    .dataframe tbody tr th {\n",
       "        vertical-align: top;\n",
       "    }\n",
       "\n",
       "    .dataframe thead th {\n",
       "        text-align: right;\n",
       "    }\n",
       "</style>\n",
       "<table border=\"1\" class=\"dataframe\">\n",
       "  <thead>\n",
       "    <tr style=\"text-align: right;\">\n",
       "      <th></th>\n",
       "      <th>country</th>\n",
       "      <th>time-period</th>\n",
       "      <th>sector</th>\n",
       "      <th>energy-type</th>\n",
       "      <th>value(KTOE)</th>\n",
       "    </tr>\n",
       "  </thead>\n",
       "  <tbody>\n",
       "    <tr>\n",
       "      <th>0</th>\n",
       "      <td>Albania</td>\n",
       "      <td>2009</td>\n",
       "      <td>households</td>\n",
       "      <td>Solid fossil fuels</td>\n",
       "      <td>0.000</td>\n",
       "    </tr>\n",
       "    <tr>\n",
       "      <th>1</th>\n",
       "      <td>Albania</td>\n",
       "      <td>2010</td>\n",
       "      <td>households</td>\n",
       "      <td>Solid fossil fuels</td>\n",
       "      <td>0.000</td>\n",
       "    </tr>\n",
       "    <tr>\n",
       "      <th>2</th>\n",
       "      <td>Albania</td>\n",
       "      <td>2011</td>\n",
       "      <td>households</td>\n",
       "      <td>Solid fossil fuels</td>\n",
       "      <td>0.000</td>\n",
       "    </tr>\n",
       "    <tr>\n",
       "      <th>3</th>\n",
       "      <td>Albania</td>\n",
       "      <td>2012</td>\n",
       "      <td>households</td>\n",
       "      <td>Solid fossil fuels</td>\n",
       "      <td>0.235</td>\n",
       "    </tr>\n",
       "    <tr>\n",
       "      <th>4</th>\n",
       "      <td>Albania</td>\n",
       "      <td>2013</td>\n",
       "      <td>households</td>\n",
       "      <td>Solid fossil fuels</td>\n",
       "      <td>0.235</td>\n",
       "    </tr>\n",
       "  </tbody>\n",
       "</table>\n",
       "</div>"
      ],
      "text/plain": [
       "   country  time-period      sector         energy-type  value(KTOE)\n",
       "0  Albania         2009  households  Solid fossil fuels        0.000\n",
       "1  Albania         2010  households  Solid fossil fuels        0.000\n",
       "2  Albania         2011  households  Solid fossil fuels        0.000\n",
       "3  Albania         2012  households  Solid fossil fuels        0.235\n",
       "4  Albania         2013  households  Solid fossil fuels        0.235"
      ]
     },
     "execution_count": 16,
     "metadata": {},
     "output_type": "execute_result"
    }
   ],
   "source": [
    "# put columns in order\n",
    "consump_household = consump_household[['country', 'time-period', 'sector','energy-type', 'value(KTOE)']]\n",
    "consump_household.head()"
   ]
  },
  {
   "cell_type": "code",
   "execution_count": 17,
   "id": "8217b8d7",
   "metadata": {},
   "outputs": [
    {
     "data": {
      "text/plain": [
       "(5423, 5)"
      ]
     },
     "execution_count": 17,
     "metadata": {},
     "output_type": "execute_result"
    }
   ],
   "source": [
    "# shape of the dataset\n",
    "consump_household.shape"
   ]
  },
  {
   "cell_type": "code",
   "execution_count": 18,
   "id": "17873242",
   "metadata": {},
   "outputs": [
    {
     "name": "stdout",
     "output_type": "stream",
     "text": [
      "<class 'pandas.core.frame.DataFrame'>\n",
      "RangeIndex: 5423 entries, 0 to 5422\n",
      "Data columns (total 5 columns):\n",
      " #   Column       Non-Null Count  Dtype  \n",
      "---  ------       --------------  -----  \n",
      " 0   country      5423 non-null   object \n",
      " 1   time-period  5423 non-null   int64  \n",
      " 2   sector       5423 non-null   object \n",
      " 3   energy-type  5423 non-null   object \n",
      " 4   value(KTOE)  5423 non-null   float64\n",
      "dtypes: float64(1), int64(1), object(3)\n",
      "memory usage: 212.0+ KB\n"
     ]
    }
   ],
   "source": [
    "# data type of attributes\n",
    "consump_household.info()"
   ]
  },
  {
   "cell_type": "markdown",
   "id": "0376089e",
   "metadata": {},
   "source": [
    "There is no null values in dataset"
   ]
  },
  {
   "cell_type": "code",
   "execution_count": 23,
   "id": "3b15d206",
   "metadata": {},
   "outputs": [
    {
     "name": "stdout",
     "output_type": "stream",
     "text": [
      "country doesn't contain mixed data types\n",
      "time-period doesn't contain mixed data types\n",
      "sector doesn't contain mixed data types\n",
      "energy-type doesn't contain mixed data types\n",
      "value(KTOE) doesn't contain mixed data types\n"
     ]
    }
   ],
   "source": [
    "# check for mixed data type in df_ords\n",
    "for col in consump_household.columns.tolist():\n",
    "  weird = (consump_household[[col]].applymap(type) != consump_household[[col]].iloc[0].apply(type)).any(axis = 1)\n",
    "  if len (consump_household[weird]) > 0:\n",
    "    print (col + ' contains mixed data types')\n",
    "  else:\n",
    "    print (col + ' doesn\\'t contain mixed data types')"
   ]
  },
  {
   "cell_type": "code",
   "execution_count": 28,
   "id": "834f176a",
   "metadata": {},
   "outputs": [
    {
     "data": {
      "text/html": [
       "<div>\n",
       "<style scoped>\n",
       "    .dataframe tbody tr th:only-of-type {\n",
       "        vertical-align: middle;\n",
       "    }\n",
       "\n",
       "    .dataframe tbody tr th {\n",
       "        vertical-align: top;\n",
       "    }\n",
       "\n",
       "    .dataframe thead th {\n",
       "        text-align: right;\n",
       "    }\n",
       "</style>\n",
       "<table border=\"1\" class=\"dataframe\">\n",
       "  <thead>\n",
       "    <tr style=\"text-align: right;\">\n",
       "      <th></th>\n",
       "      <th>time-period</th>\n",
       "      <th>value(KTOE)</th>\n",
       "    </tr>\n",
       "  </thead>\n",
       "  <tbody>\n",
       "    <tr>\n",
       "      <th>count</th>\n",
       "      <td>5423.000000</td>\n",
       "      <td>5423.000000</td>\n",
       "    </tr>\n",
       "    <tr>\n",
       "      <th>mean</th>\n",
       "      <td>2014.567951</td>\n",
       "      <td>3495.617775</td>\n",
       "    </tr>\n",
       "    <tr>\n",
       "      <th>std</th>\n",
       "      <td>3.431167</td>\n",
       "      <td>17124.753965</td>\n",
       "    </tr>\n",
       "    <tr>\n",
       "      <th>min</th>\n",
       "      <td>2009.000000</td>\n",
       "      <td>0.000000</td>\n",
       "    </tr>\n",
       "    <tr>\n",
       "      <th>25%</th>\n",
       "      <td>2012.000000</td>\n",
       "      <td>1.552000</td>\n",
       "    </tr>\n",
       "    <tr>\n",
       "      <th>50%</th>\n",
       "      <td>2015.000000</td>\n",
       "      <td>109.547000</td>\n",
       "    </tr>\n",
       "    <tr>\n",
       "      <th>75%</th>\n",
       "      <td>2018.000000</td>\n",
       "      <td>1112.849000</td>\n",
       "    </tr>\n",
       "    <tr>\n",
       "      <th>max</th>\n",
       "      <td>2020.000000</td>\n",
       "      <td>278887.004000</td>\n",
       "    </tr>\n",
       "  </tbody>\n",
       "</table>\n",
       "</div>"
      ],
      "text/plain": [
       "       time-period    value(KTOE)\n",
       "count  5423.000000    5423.000000\n",
       "mean   2014.567951    3495.617775\n",
       "std       3.431167   17124.753965\n",
       "min    2009.000000       0.000000\n",
       "25%    2012.000000       1.552000\n",
       "50%    2015.000000     109.547000\n",
       "75%    2018.000000    1112.849000\n",
       "max    2020.000000  278887.004000"
      ]
     },
     "execution_count": 28,
     "metadata": {},
     "output_type": "execute_result"
    }
   ],
   "source": [
    "# descriptive statisctics\n",
    "consump_household.describe()"
   ]
  },
  {
   "cell_type": "markdown",
   "id": "d49a41be",
   "metadata": {},
   "source": [
    "the data distribution for time period is ok as it is the annual data, but in value there are lots of outliers which seems to be rational as they are the summation values"
   ]
  },
  {
   "cell_type": "code",
   "execution_count": 29,
   "id": "1db40c23",
   "metadata": {},
   "outputs": [
    {
     "data": {
      "text/plain": [
       "<Axes: ylabel='Frequency'>"
      ]
     },
     "execution_count": 29,
     "metadata": {},
     "output_type": "execute_result"
    },
    {
     "data": {
      "image/png": "[encoded data removed]",
      "text/plain": [
       "<Figure size 640x480 with 1 Axes>"
      ]
     },
     "metadata": {},
     "output_type": "display_data"
    }
   ],
   "source": [
    "# distribution of value(KTOE)\n",
    "consump_household['value(KTOE)'].plot.hist(bins=100)"
   ]
  },
  {
   "cell_type": "markdown",
   "id": "c34d41e4",
   "metadata": {},
   "source": [
    "### Like the other data sets here we have lots of '0' values which seems to be normal as there are lots of unmeasured data or lots of real zero measurements"
   ]
  },
  {
   "cell_type": "code",
   "execution_count": 30,
   "id": "5ab2dff2",
   "metadata": {},
   "outputs": [
    {
     "data": {
      "text/plain": [
       "Albania                                      132\n",
       "Iceland                                      132\n",
       "Lithuania                                    132\n",
       "Luxembourg                                   132\n",
       "Latvia                                       132\n",
       "Montenegro                                   132\n",
       "North Macedonia                              132\n",
       "Malta                                        132\n",
       "Netherlands                                  132\n",
       "Norway                                       132\n",
       "Poland                                       132\n",
       "Portugal                                     132\n",
       "Romania                                      132\n",
       "Serbia                                       132\n",
       "Sweden                                       132\n",
       "Slovenia                                     132\n",
       "Slovakia                                     132\n",
       "Turkey                                       132\n",
       "Ukraine                                      132\n",
       "Austria                                      132\n",
       "Italy                                        132\n",
       "Ireland                                      132\n",
       "Hungary                                      132\n",
       "Belgium                                      132\n",
       "Bulgaria                                     132\n",
       "Cyprus                                       132\n",
       "Czechia                                      132\n",
       "Germany                                      132\n",
       "Denmark                                      132\n",
       "Euro area - 19 countries (from 2015)         132\n",
       "Estonia                                      132\n",
       "Greece                                       132\n",
       "Spain                                        132\n",
       "European Union - 27 countries (from 2020)    132\n",
       "Finland                                      132\n",
       "France                                       132\n",
       "Croatia                                      132\n",
       "Kosovo                                       132\n",
       "Moldova                                      121\n",
       "United Kingdom                               121\n",
       "Georgia                                       88\n",
       "Bosnia and Herzegovina                        77\n",
       "Name: country, dtype: int64"
      ]
     },
     "execution_count": 30,
     "metadata": {},
     "output_type": "execute_result"
    }
   ],
   "source": [
    "# value distribution for 'country'\n",
    "consump_household['country'].value_counts()"
   ]
  },
  {
   "cell_type": "code",
   "execution_count": 31,
   "id": "ccec2ca8",
   "metadata": {},
   "outputs": [
    {
     "data": {
      "text/plain": [
       "Solid fossil fuels                                    493\n",
       "Electricity                                           493\n",
       "Natural gas                                           493\n",
       "Heat                                                  493\n",
       "Liquefied petroleum gases                             493\n",
       "Other kerosene                                        493\n",
       "Gas oil and diesel oil (excluding biofuel portion)    493\n",
       "Primary solid biofuels                                493\n",
       "Solar thermal                                         493\n",
       "Ambient heat (heat pumps)                             493\n",
       "Total                                                 493\n",
       "Name: energy-type, dtype: int64"
      ]
     },
     "execution_count": 31,
     "metadata": {},
     "output_type": "execute_result"
    }
   ],
   "source": [
    "# data distribution for 'energy-type'\n",
    "consump_household['energy-type'].value_counts()"
   ]
  },
  {
   "cell_type": "code",
   "execution_count": 32,
   "id": "98a9d4e8",
   "metadata": {},
   "outputs": [
    {
     "data": {
      "text/plain": [
       "households    5423\n",
       "Name: sector, dtype: int64"
      ]
     },
     "execution_count": 32,
     "metadata": {},
     "output_type": "execute_result"
    }
   ],
   "source": [
    "# data distribution for sector\n",
    "consump_household['sector'].value_counts()"
   ]
  },
  {
   "cell_type": "code",
   "execution_count": 33,
   "id": "6d55f778",
   "metadata": {},
   "outputs": [
    {
     "data": {
      "text/plain": [
       "{'Albania',\n",
       " 'Austria',\n",
       " 'Belgium',\n",
       " 'Bosnia and Herzegovina',\n",
       " 'Bulgaria',\n",
       " 'Croatia',\n",
       " 'Cyprus',\n",
       " 'Czechia',\n",
       " 'Denmark',\n",
       " 'Estonia',\n",
       " 'Finland',\n",
       " 'France',\n",
       " 'Georgia',\n",
       " 'Germany',\n",
       " 'Greece',\n",
       " 'Hungary',\n",
       " 'Iceland',\n",
       " 'Ireland',\n",
       " 'Italy',\n",
       " 'Kosovo',\n",
       " 'Latvia',\n",
       " 'Lithuania',\n",
       " 'Luxembourg',\n",
       " 'Malta',\n",
       " 'Moldova',\n",
       " 'Montenegro',\n",
       " 'Netherlands',\n",
       " 'North Macedonia',\n",
       " 'Norway',\n",
       " 'Poland',\n",
       " 'Portugal',\n",
       " 'Romania',\n",
       " 'Serbia',\n",
       " 'Slovakia',\n",
       " 'Slovenia',\n",
       " 'Spain',\n",
       " 'Sweden',\n",
       " 'Turkey',\n",
       " 'Ukraine',\n",
       " 'United Kingdom'}"
      ]
     },
     "execution_count": 33,
     "metadata": {},
     "output_type": "execute_result"
    }
   ],
   "source": [
    "# remove rows related to 'EU27_2020' & 'EA19' & 'EA28' as they are summations for contries in EU and they are not helpful in our analysis\n",
    "consump_household.drop(consump_household[consump_household['country'].isin(['European Union - 27 countries (from 2020)',\n",
    "            'Euro area - 19 countries (from 2015)', 'European Union - 28 countries (2013-2020)'])].index, inplace=True)\n",
    "set(consump_household['country'])"
   ]
  },
  {
   "cell_type": "code",
   "execution_count": 34,
   "id": "1881c0df",
   "metadata": {},
   "outputs": [
    {
     "data": {
      "text/plain": [
       "country        0\n",
       "time-period    0\n",
       "sector         0\n",
       "energy-type    0\n",
       "value(KTOE)    0\n",
       "dtype: int64"
      ]
     },
     "execution_count": 34,
     "metadata": {},
     "output_type": "execute_result"
    }
   ],
   "source": [
    "# check for null values again\n",
    "consump_household.isnull().sum()"
   ]
  },
  {
   "cell_type": "code",
   "execution_count": 35,
   "id": "d92e4502",
   "metadata": {},
   "outputs": [
    {
     "data": {
      "text/html": [
       "<div>\n",
       "<style scoped>\n",
       "    .dataframe tbody tr th:only-of-type {\n",
       "        vertical-align: middle;\n",
       "    }\n",
       "\n",
       "    .dataframe tbody tr th {\n",
       "        vertical-align: top;\n",
       "    }\n",
       "\n",
       "    .dataframe thead th {\n",
       "        text-align: right;\n",
       "    }\n",
       "</style>\n",
       "<table border=\"1\" class=\"dataframe\">\n",
       "  <thead>\n",
       "    <tr style=\"text-align: right;\">\n",
       "      <th></th>\n",
       "      <th>country</th>\n",
       "      <th>time-period</th>\n",
       "      <th>sector</th>\n",
       "      <th>energy-type</th>\n",
       "      <th>value(KTOE)</th>\n",
       "    </tr>\n",
       "  </thead>\n",
       "  <tbody>\n",
       "  </tbody>\n",
       "</table>\n",
       "</div>"
      ],
      "text/plain": [
       "Empty DataFrame\n",
       "Columns: [country, time-period, sector, energy-type, value(KTOE)]\n",
       "Index: []"
      ]
     },
     "execution_count": 35,
     "metadata": {},
     "output_type": "execute_result"
    }
   ],
   "source": [
    "# check for duplicity\n",
    "consump_household[consump_household.duplicated()]"
   ]
  },
  {
   "cell_type": "markdown",
   "id": "0f5e8001",
   "metadata": {},
   "source": [
    "There is no duplicated row"
   ]
  },
  {
   "cell_type": "code",
   "execution_count": 42,
   "id": "3ac8748e",
   "metadata": {},
   "outputs": [
    {
     "data": {
      "text/html": [
       "<div>\n",
       "<style scoped>\n",
       "    .dataframe tbody tr th:only-of-type {\n",
       "        vertical-align: middle;\n",
       "    }\n",
       "\n",
       "    .dataframe tbody tr th {\n",
       "        vertical-align: top;\n",
       "    }\n",
       "\n",
       "    .dataframe thead th {\n",
       "        text-align: right;\n",
       "    }\n",
       "</style>\n",
       "<table border=\"1\" class=\"dataframe\">\n",
       "  <thead>\n",
       "    <tr style=\"text-align: right;\">\n",
       "      <th></th>\n",
       "      <th>country</th>\n",
       "      <th>time-period</th>\n",
       "      <th>sector</th>\n",
       "      <th>energy-type</th>\n",
       "      <th>value(KTOE)</th>\n",
       "    </tr>\n",
       "  </thead>\n",
       "  <tbody>\n",
       "    <tr>\n",
       "      <th>0</th>\n",
       "      <td>Albania</td>\n",
       "      <td>2009</td>\n",
       "      <td>households</td>\n",
       "      <td>Solid fossil fuels</td>\n",
       "      <td>0.000</td>\n",
       "    </tr>\n",
       "    <tr>\n",
       "      <th>1</th>\n",
       "      <td>Albania</td>\n",
       "      <td>2010</td>\n",
       "      <td>households</td>\n",
       "      <td>Solid fossil fuels</td>\n",
       "      <td>0.000</td>\n",
       "    </tr>\n",
       "    <tr>\n",
       "      <th>2</th>\n",
       "      <td>Albania</td>\n",
       "      <td>2011</td>\n",
       "      <td>households</td>\n",
       "      <td>Solid fossil fuels</td>\n",
       "      <td>0.000</td>\n",
       "    </tr>\n",
       "    <tr>\n",
       "      <th>3</th>\n",
       "      <td>Albania</td>\n",
       "      <td>2012</td>\n",
       "      <td>households</td>\n",
       "      <td>Solid fossil fuels</td>\n",
       "      <td>0.235</td>\n",
       "    </tr>\n",
       "    <tr>\n",
       "      <th>4</th>\n",
       "      <td>Albania</td>\n",
       "      <td>2013</td>\n",
       "      <td>households</td>\n",
       "      <td>Solid fossil fuels</td>\n",
       "      <td>0.235</td>\n",
       "    </tr>\n",
       "    <tr>\n",
       "      <th>...</th>\n",
       "      <td>...</td>\n",
       "      <td>...</td>\n",
       "      <td>...</td>\n",
       "      <td>...</td>\n",
       "      <td>...</td>\n",
       "    </tr>\n",
       "    <tr>\n",
       "      <th>5154</th>\n",
       "      <td>Kosovo</td>\n",
       "      <td>2016</td>\n",
       "      <td>households</td>\n",
       "      <td>Total</td>\n",
       "      <td>549.413</td>\n",
       "    </tr>\n",
       "    <tr>\n",
       "      <th>5155</th>\n",
       "      <td>Kosovo</td>\n",
       "      <td>2017</td>\n",
       "      <td>households</td>\n",
       "      <td>Total</td>\n",
       "      <td>571.465</td>\n",
       "    </tr>\n",
       "    <tr>\n",
       "      <th>5156</th>\n",
       "      <td>Kosovo</td>\n",
       "      <td>2018</td>\n",
       "      <td>households</td>\n",
       "      <td>Total</td>\n",
       "      <td>573.404</td>\n",
       "    </tr>\n",
       "    <tr>\n",
       "      <th>5157</th>\n",
       "      <td>Kosovo</td>\n",
       "      <td>2019</td>\n",
       "      <td>households</td>\n",
       "      <td>Total</td>\n",
       "      <td>586.881</td>\n",
       "    </tr>\n",
       "    <tr>\n",
       "      <th>5158</th>\n",
       "      <td>Kosovo</td>\n",
       "      <td>2020</td>\n",
       "      <td>households</td>\n",
       "      <td>Total</td>\n",
       "      <td>608.818</td>\n",
       "    </tr>\n",
       "  </tbody>\n",
       "</table>\n",
       "<p>5159 rows × 5 columns</p>\n",
       "</div>"
      ],
      "text/plain": [
       "      country  time-period      sector         energy-type  value(KTOE)\n",
       "0     Albania         2009  households  Solid fossil fuels        0.000\n",
       "1     Albania         2010  households  Solid fossil fuels        0.000\n",
       "2     Albania         2011  households  Solid fossil fuels        0.000\n",
       "3     Albania         2012  households  Solid fossil fuels        0.235\n",
       "4     Albania         2013  households  Solid fossil fuels        0.235\n",
       "...       ...          ...         ...                 ...          ...\n",
       "5154   Kosovo         2016  households               Total      549.413\n",
       "5155   Kosovo         2017  households               Total      571.465\n",
       "5156   Kosovo         2018  households               Total      573.404\n",
       "5157   Kosovo         2019  households               Total      586.881\n",
       "5158   Kosovo         2020  households               Total      608.818\n",
       "\n",
       "[5159 rows x 5 columns]"
      ]
     },
     "execution_count": 42,
     "metadata": {},
     "output_type": "execute_result"
    }
   ],
   "source": [
    "# reset index for new dataset\n",
    "consump_household.reset_index(drop=True, inplace=True)\n",
    "consump_household"
   ]
  },
  {
   "cell_type": "markdown",
   "id": "c8e585de",
   "metadata": {},
   "source": [
    "# The final form of the 'consum_household' data frame will be as follow"
   ]
  },
  {
   "cell_type": "code",
   "execution_count": 43,
   "id": "d1ce97a3",
   "metadata": {},
   "outputs": [
    {
     "data": {
      "text/html": [
       "<div>\n",
       "<style scoped>\n",
       "    .dataframe tbody tr th:only-of-type {\n",
       "        vertical-align: middle;\n",
       "    }\n",
       "\n",
       "    .dataframe tbody tr th {\n",
       "        vertical-align: top;\n",
       "    }\n",
       "\n",
       "    .dataframe thead th {\n",
       "        text-align: right;\n",
       "    }\n",
       "</style>\n",
       "<table border=\"1\" class=\"dataframe\">\n",
       "  <thead>\n",
       "    <tr style=\"text-align: right;\">\n",
       "      <th></th>\n",
       "      <th>country</th>\n",
       "      <th>time-period</th>\n",
       "      <th>sector</th>\n",
       "      <th>energy-type</th>\n",
       "      <th>value(KTOE)</th>\n",
       "    </tr>\n",
       "  </thead>\n",
       "  <tbody>\n",
       "    <tr>\n",
       "      <th>0</th>\n",
       "      <td>Albania</td>\n",
       "      <td>2009</td>\n",
       "      <td>households</td>\n",
       "      <td>Solid fossil fuels</td>\n",
       "      <td>0.000</td>\n",
       "    </tr>\n",
       "    <tr>\n",
       "      <th>1</th>\n",
       "      <td>Albania</td>\n",
       "      <td>2010</td>\n",
       "      <td>households</td>\n",
       "      <td>Solid fossil fuels</td>\n",
       "      <td>0.000</td>\n",
       "    </tr>\n",
       "    <tr>\n",
       "      <th>2</th>\n",
       "      <td>Albania</td>\n",
       "      <td>2011</td>\n",
       "      <td>households</td>\n",
       "      <td>Solid fossil fuels</td>\n",
       "      <td>0.000</td>\n",
       "    </tr>\n",
       "    <tr>\n",
       "      <th>3</th>\n",
       "      <td>Albania</td>\n",
       "      <td>2012</td>\n",
       "      <td>households</td>\n",
       "      <td>Solid fossil fuels</td>\n",
       "      <td>0.235</td>\n",
       "    </tr>\n",
       "    <tr>\n",
       "      <th>4</th>\n",
       "      <td>Albania</td>\n",
       "      <td>2013</td>\n",
       "      <td>households</td>\n",
       "      <td>Solid fossil fuels</td>\n",
       "      <td>0.235</td>\n",
       "    </tr>\n",
       "  </tbody>\n",
       "</table>\n",
       "</div>"
      ],
      "text/plain": [
       "   country  time-period      sector         energy-type  value(KTOE)\n",
       "0  Albania         2009  households  Solid fossil fuels        0.000\n",
       "1  Albania         2010  households  Solid fossil fuels        0.000\n",
       "2  Albania         2011  households  Solid fossil fuels        0.000\n",
       "3  Albania         2012  households  Solid fossil fuels        0.235\n",
       "4  Albania         2013  households  Solid fossil fuels        0.235"
      ]
     },
     "execution_count": 43,
     "metadata": {},
     "output_type": "execute_result"
    }
   ],
   "source": [
    "consump_household.head()"
   ]
  },
  {
   "cell_type": "code",
   "execution_count": 44,
   "id": "c59f5e85",
   "metadata": {},
   "outputs": [
    {
     "data": {
      "text/plain": [
       "(5159, 5)"
      ]
     },
     "execution_count": 44,
     "metadata": {},
     "output_type": "execute_result"
    }
   ],
   "source": [
    "consump_household.shape"
   ]
  },
  {
   "cell_type": "code",
   "execution_count": 45,
   "id": "9fb352eb",
   "metadata": {},
   "outputs": [
    {
     "name": "stdout",
     "output_type": "stream",
     "text": [
      "<class 'pandas.core.frame.DataFrame'>\n",
      "RangeIndex: 5159 entries, 0 to 5158\n",
      "Data columns (total 5 columns):\n",
      " #   Column       Non-Null Count  Dtype  \n",
      "---  ------       --------------  -----  \n",
      " 0   country      5159 non-null   object \n",
      " 1   time-period  5159 non-null   int64  \n",
      " 2   sector       5159 non-null   object \n",
      " 3   energy-type  5159 non-null   object \n",
      " 4   value(KTOE)  5159 non-null   float64\n",
      "dtypes: float64(1), int64(1), object(3)\n",
      "memory usage: 201.6+ KB\n"
     ]
    }
   ],
   "source": [
    "consump_household.info()"
   ]
  },
  {
   "cell_type": "code",
   "execution_count": 46,
   "id": "2f775c0d",
   "metadata": {},
   "outputs": [
    {
     "data": {
      "text/html": [
       "<div>\n",
       "<style scoped>\n",
       "    .dataframe tbody tr th:only-of-type {\n",
       "        vertical-align: middle;\n",
       "    }\n",
       "\n",
       "    .dataframe tbody tr th {\n",
       "        vertical-align: top;\n",
       "    }\n",
       "\n",
       "    .dataframe thead th {\n",
       "        text-align: right;\n",
       "    }\n",
       "</style>\n",
       "<table border=\"1\" class=\"dataframe\">\n",
       "  <thead>\n",
       "    <tr style=\"text-align: right;\">\n",
       "      <th></th>\n",
       "      <th>time-period</th>\n",
       "      <th>value(KTOE)</th>\n",
       "    </tr>\n",
       "  </thead>\n",
       "  <tbody>\n",
       "    <tr>\n",
       "      <th>count</th>\n",
       "      <td>5159.000000</td>\n",
       "      <td>5159.000000</td>\n",
       "    </tr>\n",
       "    <tr>\n",
       "      <th>mean</th>\n",
       "      <td>2014.571429</td>\n",
       "      <td>1585.884467</td>\n",
       "    </tr>\n",
       "    <tr>\n",
       "      <th>std</th>\n",
       "      <td>3.430059</td>\n",
       "      <td>5139.643317</td>\n",
       "    </tr>\n",
       "    <tr>\n",
       "      <th>min</th>\n",
       "      <td>2009.000000</td>\n",
       "      <td>0.000000</td>\n",
       "    </tr>\n",
       "    <tr>\n",
       "      <th>25%</th>\n",
       "      <td>2012.000000</td>\n",
       "      <td>1.027000</td>\n",
       "    </tr>\n",
       "    <tr>\n",
       "      <th>50%</th>\n",
       "      <td>2015.000000</td>\n",
       "      <td>81.693000</td>\n",
       "    </tr>\n",
       "    <tr>\n",
       "      <th>75%</th>\n",
       "      <td>2018.000000</td>\n",
       "      <td>869.089000</td>\n",
       "    </tr>\n",
       "    <tr>\n",
       "      <th>max</th>\n",
       "      <td>2020.000000</td>\n",
       "      <td>63839.122000</td>\n",
       "    </tr>\n",
       "  </tbody>\n",
       "</table>\n",
       "</div>"
      ],
      "text/plain": [
       "       time-period   value(KTOE)\n",
       "count  5159.000000   5159.000000\n",
       "mean   2014.571429   1585.884467\n",
       "std       3.430059   5139.643317\n",
       "min    2009.000000      0.000000\n",
       "25%    2012.000000      1.027000\n",
       "50%    2015.000000     81.693000\n",
       "75%    2018.000000    869.089000\n",
       "max    2020.000000  63839.122000"
      ]
     },
     "execution_count": 46,
     "metadata": {},
     "output_type": "execute_result"
    }
   ],
   "source": [
    "consump_household.describe()"
   ]
  },
  {
   "cell_type": "code",
   "execution_count": 47,
   "id": "73340d41",
   "metadata": {},
   "outputs": [
    {
     "data": {
      "text/plain": [
       "<Axes: ylabel='Frequency'>"
      ]
     },
     "execution_count": 47,
     "metadata": {},
     "output_type": "execute_result"
    },
    {
     "data": {
      "image/png": "[encoded data removed]",
      "text/plain": [
       "<Figure size 640x480 with 1 Axes>"
      ]
     },
     "metadata": {},
     "output_type": "display_data"
    }
   ],
   "source": [
    "consump_household['value(KTOE)'].plot.hist(bins=50)"
   ]
  },
  {
   "cell_type": "code",
   "execution_count": 48,
   "id": "92843052",
   "metadata": {},
   "outputs": [],
   "source": [
    "# Save data set in pickle and csv formats\n",
    "consump_household.to_csv(os.path.join(path, '2 Data set', 'Modified', 'consump_household.csv'))\n",
    "consump_household.to_pickle(os.path.join(path, '2 Data set', 'Modified', 'consump_household.pkl'))"
   ]
  },
  {
   "cell_type": "code",
   "execution_count": null,
   "id": "65dceebd",
   "metadata": {},
   "outputs": [],
   "source": []
  }
 ],
 "metadata": {
  "kernelspec": {
   "display_name": "Python 3 (ipykernel)",
   "language": "python",
   "name": "python3"
  },
  "language_info": {
   "codemirror_mode": {
    "name": "ipython",
    "version": 3
   },
   "file_extension": ".py",
   "mimetype": "text/x-python",
   "name": "python",
   "nbconvert_exporter": "python",
   "pygments_lexer": "ipython3",
   "version": "3.10.9"
  }
 },
 "nbformat": 4,
 "nbformat_minor": 5
}
