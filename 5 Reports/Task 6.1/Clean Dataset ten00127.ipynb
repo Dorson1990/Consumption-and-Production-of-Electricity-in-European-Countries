{
 "cells": [
  {
   "cell_type": "markdown",
   "id": "043605dc",
   "metadata": {},
   "source": [
    "# Load libraries and data sets"
   ]
  },
  {
   "cell_type": "code",
   "execution_count": 2,
   "id": "4a3da75b",
   "metadata": {},
   "outputs": [],
   "source": [
    "# Load libraries\n",
    "import pandas as pd\n",
    "import numpy as np\n",
    "import os\n",
    "import matplotlib.pyplot as plt"
   ]
  },
  {
   "cell_type": "code",
   "execution_count": 3,
   "id": "c3d9b4b8",
   "metadata": {},
   "outputs": [
    {
     "data": {
      "text/html": [
       "<div>\n",
       "<style scoped>\n",
       "    .dataframe tbody tr th:only-of-type {\n",
       "        vertical-align: middle;\n",
       "    }\n",
       "\n",
       "    .dataframe tbody tr th {\n",
       "        vertical-align: top;\n",
       "    }\n",
       "\n",
       "    .dataframe thead th {\n",
       "        text-align: right;\n",
       "    }\n",
       "</style>\n",
       "<table border=\"1\" class=\"dataframe\">\n",
       "  <thead>\n",
       "    <tr style=\"text-align: right;\">\n",
       "      <th></th>\n",
       "      <th>DATAFLOW</th>\n",
       "      <th>LAST UPDATE</th>\n",
       "      <th>freq</th>\n",
       "      <th>nrg_bal</th>\n",
       "      <th>siec</th>\n",
       "      <th>unit</th>\n",
       "      <th>geo</th>\n",
       "      <th>TIME_PERIOD</th>\n",
       "      <th>OBS_VALUE</th>\n",
       "      <th>OBS_FLAG</th>\n",
       "    </tr>\n",
       "  </thead>\n",
       "  <tbody>\n",
       "    <tr>\n",
       "      <th>0</th>\n",
       "      <td>ESTAT:TEN00127(1.0)</td>\n",
       "      <td>14/04/22 11:00:00</td>\n",
       "      <td>A</td>\n",
       "      <td>FC_TRA_ROAD_E</td>\n",
       "      <td>E7000</td>\n",
       "      <td>KTOE</td>\n",
       "      <td>AL</td>\n",
       "      <td>2009</td>\n",
       "      <td>0.0</td>\n",
       "      <td>NaN</td>\n",
       "    </tr>\n",
       "    <tr>\n",
       "      <th>1</th>\n",
       "      <td>ESTAT:TEN00127(1.0)</td>\n",
       "      <td>14/04/22 11:00:00</td>\n",
       "      <td>A</td>\n",
       "      <td>FC_TRA_ROAD_E</td>\n",
       "      <td>E7000</td>\n",
       "      <td>KTOE</td>\n",
       "      <td>AL</td>\n",
       "      <td>2010</td>\n",
       "      <td>0.0</td>\n",
       "      <td>NaN</td>\n",
       "    </tr>\n",
       "    <tr>\n",
       "      <th>2</th>\n",
       "      <td>ESTAT:TEN00127(1.0)</td>\n",
       "      <td>14/04/22 11:00:00</td>\n",
       "      <td>A</td>\n",
       "      <td>FC_TRA_ROAD_E</td>\n",
       "      <td>E7000</td>\n",
       "      <td>KTOE</td>\n",
       "      <td>AL</td>\n",
       "      <td>2011</td>\n",
       "      <td>0.0</td>\n",
       "      <td>NaN</td>\n",
       "    </tr>\n",
       "    <tr>\n",
       "      <th>3</th>\n",
       "      <td>ESTAT:TEN00127(1.0)</td>\n",
       "      <td>14/04/22 11:00:00</td>\n",
       "      <td>A</td>\n",
       "      <td>FC_TRA_ROAD_E</td>\n",
       "      <td>E7000</td>\n",
       "      <td>KTOE</td>\n",
       "      <td>AL</td>\n",
       "      <td>2012</td>\n",
       "      <td>0.0</td>\n",
       "      <td>NaN</td>\n",
       "    </tr>\n",
       "    <tr>\n",
       "      <th>4</th>\n",
       "      <td>ESTAT:TEN00127(1.0)</td>\n",
       "      <td>14/04/22 11:00:00</td>\n",
       "      <td>A</td>\n",
       "      <td>FC_TRA_ROAD_E</td>\n",
       "      <td>E7000</td>\n",
       "      <td>KTOE</td>\n",
       "      <td>AL</td>\n",
       "      <td>2013</td>\n",
       "      <td>0.0</td>\n",
       "      <td>NaN</td>\n",
       "    </tr>\n",
       "  </tbody>\n",
       "</table>\n",
       "</div>"
      ],
      "text/plain": [
       "              DATAFLOW        LAST UPDATE freq        nrg_bal   siec  unit  \\\n",
       "0  ESTAT:TEN00127(1.0)  14/04/22 11:00:00    A  FC_TRA_ROAD_E  E7000  KTOE   \n",
       "1  ESTAT:TEN00127(1.0)  14/04/22 11:00:00    A  FC_TRA_ROAD_E  E7000  KTOE   \n",
       "2  ESTAT:TEN00127(1.0)  14/04/22 11:00:00    A  FC_TRA_ROAD_E  E7000  KTOE   \n",
       "3  ESTAT:TEN00127(1.0)  14/04/22 11:00:00    A  FC_TRA_ROAD_E  E7000  KTOE   \n",
       "4  ESTAT:TEN00127(1.0)  14/04/22 11:00:00    A  FC_TRA_ROAD_E  E7000  KTOE   \n",
       "\n",
       "  geo  TIME_PERIOD  OBS_VALUE  OBS_FLAG  \n",
       "0  AL         2009        0.0       NaN  \n",
       "1  AL         2010        0.0       NaN  \n",
       "2  AL         2011        0.0       NaN  \n",
       "3  AL         2012        0.0       NaN  \n",
       "4  AL         2013        0.0       NaN  "
      ]
     },
     "execution_count": 3,
     "metadata": {},
     "output_type": "execute_result"
    }
   ],
   "source": [
    "# Load data set \"energy consumption in household sector\"\n",
    "\n",
    "path = r'/Users/gomula/Documents/Finalproject'\n",
    "consump_roadtransport = pd.read_csv(os.path.join(path, '2 Data set', 'Original', 'ten00127_linear.csv','ten00127_linear.csv'), index_col=False)\n",
    "consump_roadtransport.head()"
   ]
  },
  {
   "cell_type": "code",
   "execution_count": 4,
   "id": "c2af354f",
   "metadata": {},
   "outputs": [],
   "source": [
    "# remove redundant columns\n",
    "consump_roadtransport.drop(['DATAFLOW', 'LAST UPDATE', 'freq', 'OBS_FLAG', 'unit'], axis=1, inplace=True)"
   ]
  },
  {
   "cell_type": "code",
   "execution_count": 5,
   "id": "0060343d",
   "metadata": {},
   "outputs": [],
   "source": [
    "# define the name of columns\n",
    "consump_roadtransport.rename(columns={'geo': 'country-code', 'TIME_PERIOD': 'time-period', 'OBS_VALUE': 'value(KTOE)', 'nrg_bal': 'sector'}, inplace=True)"
   ]
  },
  {
   "cell_type": "code",
   "execution_count": 10,
   "id": "1d39d18b",
   "metadata": {},
   "outputs": [
    {
     "data": {
      "text/plain": [
       "45"
      ]
     },
     "execution_count": 10,
     "metadata": {},
     "output_type": "execute_result"
    }
   ],
   "source": [
    "# define the codes of countries and fuels\n",
    "country_codes = {'SK':'Slovakia', 'FI':'Finland', 'SE':'Sweden', 'IS':'Iceland','NO':'Norway', 'UK':'United Kingdom',\n",
    "                 'ME': 'Montenegro','MK':'North Macedonia', 'GE':'Georgia', 'EU27_2020':'European Union - 27 countries (from 2020)', \n",
    "                 'AL':'Albania', 'RS':'Serbia', 'TR':'Turkey', 'BA':'Bosnia and Herzegovina', 'MD':'Moldova', 'UA':'Ukraine',  \n",
    "                 'EA19':'Euro area - 19 countries (from 2015)', 'BE':'Belgium', 'BG':'Bulgaria', 'CZ':'Czechia', 'DK':'Denmark',\n",
    "                 'DE':'Germany', 'EE':'Estonia', 'IE':'Ireland', 'EL':'Greece', 'ES': 'Spain', 'FR':'France', 'HR':'Croatia',\n",
    "                 'IT':'Italy', 'CY':'Cyprus', 'LV':'Latvia', 'LT':'Lithuania', 'LU':'Luxembourg', 'HU':'Hungary', 'MT':'Malta',\n",
    "                 'NL':'Netherlands', 'AT':'Austria', 'PL':'Poland', 'PT':'Portugal', 'RO':'Romania', 'SI':'Slovenia',\n",
    "                 'EU28':'European Union - 28 countries (2013-2020)', 'LI':'Liechtenstein', 'CH':'Switzerland',\n",
    "                 'XK':'Kosovo'}\n",
    "len(country_codes)"
   ]
  },
  {
   "cell_type": "code",
   "execution_count": 11,
   "id": "3f79f36e",
   "metadata": {},
   "outputs": [
    {
     "data": {
      "text/plain": [
       "12"
      ]
     },
     "execution_count": 11,
     "metadata": {},
     "output_type": "execute_result"
    }
   ],
   "source": [
    "# define the codes of fuels\n",
    "energy_codes = {'TOTAL':'Total', 'G3000':'Natural gas', 'O4630':'Liquefied petroleum gases',\n",
    "                'O4652XR5210B':'Motor gasoline (excluding biofuel portion)', 'R5300':'Biogases','E7000':'Electricity', \n",
    "                'O4671XR5220B':'Gas oil and diesel oil (excluding biofuel portion)','R5220B':'Blended biodiesels',\n",
    "                'R5210B':'Blended biogasoline', 'R5220P':'Pure biodiesels','R5290':'Other liquid biofuels', \n",
    "                'R5210P':'Pure biogasoline'}\n",
    "len(energy_codes)"
   ]
  },
  {
   "cell_type": "code",
   "execution_count": 12,
   "id": "06537e6c",
   "metadata": {},
   "outputs": [],
   "source": [
    "# define code of sectores\n",
    "sect_codes = {'FC_TRA_ROAD_E':'road-transport'}"
   ]
  },
  {
   "cell_type": "code",
   "execution_count": 13,
   "id": "98efbfd9",
   "metadata": {},
   "outputs": [],
   "source": [
    "# replace country abbreviations by full name\n",
    "consump_roadtransport['country'] = list(map(country_codes.get, consump_roadtransport['country-code'].tolist()))"
   ]
  },
  {
   "cell_type": "code",
   "execution_count": 14,
   "id": "ce4caa38",
   "metadata": {},
   "outputs": [],
   "source": [
    "# replace energy codes by complete name\n",
    "consump_roadtransport['energy-type'] = list(map(energy_codes.get, consump_roadtransport['siec'].tolist()))"
   ]
  },
  {
   "cell_type": "code",
   "execution_count": 15,
   "id": "483a9294",
   "metadata": {},
   "outputs": [],
   "source": [
    "# replace sector abbreviations by full name\n",
    "consump_roadtransport['sector'] = list(map(sect_codes.get, consump_roadtransport['sector'].tolist()))"
   ]
  },
  {
   "cell_type": "code",
   "execution_count": 16,
   "id": "e90842d5",
   "metadata": {},
   "outputs": [],
   "source": [
    "# remove columns: siec & country\n",
    "consump_roadtransport.drop(['siec', 'country-code'], axis=1, inplace=True)"
   ]
  },
  {
   "cell_type": "code",
   "execution_count": 17,
   "id": "34e51277",
   "metadata": {},
   "outputs": [
    {
     "data": {
      "text/html": [
       "<div>\n",
       "<style scoped>\n",
       "    .dataframe tbody tr th:only-of-type {\n",
       "        vertical-align: middle;\n",
       "    }\n",
       "\n",
       "    .dataframe tbody tr th {\n",
       "        vertical-align: top;\n",
       "    }\n",
       "\n",
       "    .dataframe thead th {\n",
       "        text-align: right;\n",
       "    }\n",
       "</style>\n",
       "<table border=\"1\" class=\"dataframe\">\n",
       "  <thead>\n",
       "    <tr style=\"text-align: right;\">\n",
       "      <th></th>\n",
       "      <th>country</th>\n",
       "      <th>time-period</th>\n",
       "      <th>sector</th>\n",
       "      <th>energy-type</th>\n",
       "      <th>value(KTOE)</th>\n",
       "    </tr>\n",
       "  </thead>\n",
       "  <tbody>\n",
       "    <tr>\n",
       "      <th>0</th>\n",
       "      <td>Albania</td>\n",
       "      <td>2009</td>\n",
       "      <td>road-transport</td>\n",
       "      <td>Electricity</td>\n",
       "      <td>0.0</td>\n",
       "    </tr>\n",
       "    <tr>\n",
       "      <th>1</th>\n",
       "      <td>Albania</td>\n",
       "      <td>2010</td>\n",
       "      <td>road-transport</td>\n",
       "      <td>Electricity</td>\n",
       "      <td>0.0</td>\n",
       "    </tr>\n",
       "    <tr>\n",
       "      <th>2</th>\n",
       "      <td>Albania</td>\n",
       "      <td>2011</td>\n",
       "      <td>road-transport</td>\n",
       "      <td>Electricity</td>\n",
       "      <td>0.0</td>\n",
       "    </tr>\n",
       "    <tr>\n",
       "      <th>3</th>\n",
       "      <td>Albania</td>\n",
       "      <td>2012</td>\n",
       "      <td>road-transport</td>\n",
       "      <td>Electricity</td>\n",
       "      <td>0.0</td>\n",
       "    </tr>\n",
       "    <tr>\n",
       "      <th>4</th>\n",
       "      <td>Albania</td>\n",
       "      <td>2013</td>\n",
       "      <td>road-transport</td>\n",
       "      <td>Electricity</td>\n",
       "      <td>0.0</td>\n",
       "    </tr>\n",
       "  </tbody>\n",
       "</table>\n",
       "</div>"
      ],
      "text/plain": [
       "   country  time-period          sector  energy-type  value(KTOE)\n",
       "0  Albania         2009  road-transport  Electricity          0.0\n",
       "1  Albania         2010  road-transport  Electricity          0.0\n",
       "2  Albania         2011  road-transport  Electricity          0.0\n",
       "3  Albania         2012  road-transport  Electricity          0.0\n",
       "4  Albania         2013  road-transport  Electricity          0.0"
      ]
     },
     "execution_count": 17,
     "metadata": {},
     "output_type": "execute_result"
    }
   ],
   "source": [
    "# put columns in order\n",
    "consump_roadtransport = consump_roadtransport[['country', 'time-period', 'sector','energy-type', 'value(KTOE)']]\n",
    "consump_roadtransport.head()"
   ]
  },
  {
   "cell_type": "code",
   "execution_count": 18,
   "id": "daee957f",
   "metadata": {},
   "outputs": [
    {
     "data": {
      "text/plain": [
       "(5916, 5)"
      ]
     },
     "execution_count": 18,
     "metadata": {},
     "output_type": "execute_result"
    }
   ],
   "source": [
    "# shape of the dataset\n",
    "consump_roadtransport.shape"
   ]
  },
  {
   "cell_type": "code",
   "execution_count": 19,
   "id": "bcade441",
   "metadata": {},
   "outputs": [
    {
     "name": "stdout",
     "output_type": "stream",
     "text": [
      "<class 'pandas.core.frame.DataFrame'>\n",
      "RangeIndex: 5916 entries, 0 to 5915\n",
      "Data columns (total 5 columns):\n",
      " #   Column       Non-Null Count  Dtype  \n",
      "---  ------       --------------  -----  \n",
      " 0   country      5916 non-null   object \n",
      " 1   time-period  5916 non-null   int64  \n",
      " 2   sector       5916 non-null   object \n",
      " 3   energy-type  5916 non-null   object \n",
      " 4   value(KTOE)  5916 non-null   float64\n",
      "dtypes: float64(1), int64(1), object(3)\n",
      "memory usage: 231.2+ KB\n"
     ]
    }
   ],
   "source": [
    "# data type of attributes\n",
    "consump_roadtransport.info()"
   ]
  },
  {
   "cell_type": "markdown",
   "id": "f8a82833",
   "metadata": {},
   "source": [
    "There is no null values in dataset"
   ]
  },
  {
   "cell_type": "code",
   "execution_count": 20,
   "id": "d386c096",
   "metadata": {},
   "outputs": [
    {
     "name": "stdout",
     "output_type": "stream",
     "text": [
      "country doesn't contain mixed data types\n",
      "time-period doesn't contain mixed data types\n",
      "sector doesn't contain mixed data types\n",
      "energy-type doesn't contain mixed data types\n",
      "value(KTOE) doesn't contain mixed data types\n"
     ]
    }
   ],
   "source": [
    "# check for mixed data type in df_ords\n",
    "for col in consump_roadtransport.columns.tolist():\n",
    "  weird = (consump_roadtransport[[col]].applymap(type) != consump_roadtransport[[col]].iloc[0].apply(type)).any(axis = 1)\n",
    "  if len (consump_roadtransport[weird]) > 0:\n",
    "    print (col + ' contains mixed data types')\n",
    "  else:\n",
    "    print (col + ' doesn\\'t contain mixed data types')"
   ]
  },
  {
   "cell_type": "code",
   "execution_count": 21,
   "id": "dcd04c02",
   "metadata": {},
   "outputs": [
    {
     "data": {
      "text/html": [
       "<div>\n",
       "<style scoped>\n",
       "    .dataframe tbody tr th:only-of-type {\n",
       "        vertical-align: middle;\n",
       "    }\n",
       "\n",
       "    .dataframe tbody tr th {\n",
       "        vertical-align: top;\n",
       "    }\n",
       "\n",
       "    .dataframe thead th {\n",
       "        text-align: right;\n",
       "    }\n",
       "</style>\n",
       "<table border=\"1\" class=\"dataframe\">\n",
       "  <thead>\n",
       "    <tr style=\"text-align: right;\">\n",
       "      <th></th>\n",
       "      <th>time-period</th>\n",
       "      <th>value(KTOE)</th>\n",
       "    </tr>\n",
       "  </thead>\n",
       "  <tbody>\n",
       "    <tr>\n",
       "      <th>count</th>\n",
       "      <td>5916.000000</td>\n",
       "      <td>5916.000000</td>\n",
       "    </tr>\n",
       "    <tr>\n",
       "      <th>mean</th>\n",
       "      <td>2014.567951</td>\n",
       "      <td>3232.756200</td>\n",
       "    </tr>\n",
       "    <tr>\n",
       "      <th>std</th>\n",
       "      <td>3.431141</td>\n",
       "      <td>18842.549318</td>\n",
       "    </tr>\n",
       "    <tr>\n",
       "      <th>min</th>\n",
       "      <td>2009.000000</td>\n",
       "      <td>0.000000</td>\n",
       "    </tr>\n",
       "    <tr>\n",
       "      <th>25%</th>\n",
       "      <td>2012.000000</td>\n",
       "      <td>0.000000</td>\n",
       "    </tr>\n",
       "    <tr>\n",
       "      <th>50%</th>\n",
       "      <td>2015.000000</td>\n",
       "      <td>6.555000</td>\n",
       "    </tr>\n",
       "    <tr>\n",
       "      <th>75%</th>\n",
       "      <td>2018.000000</td>\n",
       "      <td>415.668750</td>\n",
       "    </tr>\n",
       "    <tr>\n",
       "      <th>max</th>\n",
       "      <td>2020.000000</td>\n",
       "      <td>270043.353000</td>\n",
       "    </tr>\n",
       "  </tbody>\n",
       "</table>\n",
       "</div>"
      ],
      "text/plain": [
       "       time-period    value(KTOE)\n",
       "count  5916.000000    5916.000000\n",
       "mean   2014.567951    3232.756200\n",
       "std       3.431141   18842.549318\n",
       "min    2009.000000       0.000000\n",
       "25%    2012.000000       0.000000\n",
       "50%    2015.000000       6.555000\n",
       "75%    2018.000000     415.668750\n",
       "max    2020.000000  270043.353000"
      ]
     },
     "execution_count": 21,
     "metadata": {},
     "output_type": "execute_result"
    }
   ],
   "source": [
    "# descriptive statisctics\n",
    "consump_roadtransport.describe()"
   ]
  },
  {
   "cell_type": "markdown",
   "id": "bb026569",
   "metadata": {},
   "source": [
    "the data distribution for time period is ok as it is the annual data, but in value(KTOE) there are lots of outliers which seems to be rational as they are the summation values"
   ]
  },
  {
   "cell_type": "code",
   "execution_count": 22,
   "id": "be9a5db8",
   "metadata": {},
   "outputs": [
    {
     "data": {
      "text/plain": [
       "<Axes: ylabel='Frequency'>"
      ]
     },
     "execution_count": 22,
     "metadata": {},
     "output_type": "execute_result"
    },
    {
     "data": {
      "image/png": "[encoded data removed]",
      "text/plain": [
       "<Figure size 640x480 with 1 Axes>"
      ]
     },
     "metadata": {},
     "output_type": "display_data"
    }
   ],
   "source": [
    "# distribution of value(KTOE)\n",
    "consump_roadtransport['value(KTOE)'].plot.hist(bins=100)"
   ]
  },
  {
   "cell_type": "markdown",
   "id": "f8a9d0b1",
   "metadata": {},
   "source": [
    "### Like the other data sets here we have lots of '0' values which seems to be normal as there are lots of unmeasured data or lots of real zero measurements"
   ]
  },
  {
   "cell_type": "code",
   "execution_count": 23,
   "id": "7c78caca",
   "metadata": {},
   "outputs": [
    {
     "data": {
      "text/plain": [
       "Albania                                      144\n",
       "Iceland                                      144\n",
       "Lithuania                                    144\n",
       "Luxembourg                                   144\n",
       "Latvia                                       144\n",
       "Montenegro                                   144\n",
       "North Macedonia                              144\n",
       "Malta                                        144\n",
       "Netherlands                                  144\n",
       "Norway                                       144\n",
       "Poland                                       144\n",
       "Portugal                                     144\n",
       "Romania                                      144\n",
       "Serbia                                       144\n",
       "Sweden                                       144\n",
       "Slovenia                                     144\n",
       "Slovakia                                     144\n",
       "Turkey                                       144\n",
       "Ukraine                                      144\n",
       "Austria                                      144\n",
       "Italy                                        144\n",
       "Ireland                                      144\n",
       "Hungary                                      144\n",
       "Belgium                                      144\n",
       "Bulgaria                                     144\n",
       "Cyprus                                       144\n",
       "Czechia                                      144\n",
       "Germany                                      144\n",
       "Denmark                                      144\n",
       "Euro area - 19 countries (from 2015)         144\n",
       "Estonia                                      144\n",
       "Greece                                       144\n",
       "Spain                                        144\n",
       "European Union - 27 countries (from 2020)    144\n",
       "Finland                                      144\n",
       "France                                       144\n",
       "Croatia                                      144\n",
       "Kosovo                                       144\n",
       "Moldova                                      132\n",
       "United Kingdom                               132\n",
       "Georgia                                       96\n",
       "Bosnia and Herzegovina                        84\n",
       "Name: country, dtype: int64"
      ]
     },
     "execution_count": 23,
     "metadata": {},
     "output_type": "execute_result"
    }
   ],
   "source": [
    "# value distribution for 'country'\n",
    "consump_roadtransport['country'].value_counts()"
   ]
  },
  {
   "cell_type": "code",
   "execution_count": 24,
   "id": "7780bc53",
   "metadata": {},
   "outputs": [
    {
     "data": {
      "text/plain": [
       "Electricity                                           493\n",
       "Natural gas                                           493\n",
       "Liquefied petroleum gases                             493\n",
       "Motor gasoline (excluding biofuel portion)            493\n",
       "Gas oil and diesel oil (excluding biofuel portion)    493\n",
       "Blended biogasoline                                   493\n",
       "Pure biogasoline                                      493\n",
       "Blended biodiesels                                    493\n",
       "Pure biodiesels                                       493\n",
       "Other liquid biofuels                                 493\n",
       "Biogases                                              493\n",
       "Total                                                 493\n",
       "Name: energy-type, dtype: int64"
      ]
     },
     "execution_count": 24,
     "metadata": {},
     "output_type": "execute_result"
    }
   ],
   "source": [
    "# data distribution for 'energy-type'\n",
    "consump_roadtransport['energy-type'].value_counts()"
   ]
  },
  {
   "cell_type": "code",
   "execution_count": 25,
   "id": "277b8195",
   "metadata": {},
   "outputs": [
    {
     "data": {
      "text/plain": [
       "road-transport    5916\n",
       "Name: sector, dtype: int64"
      ]
     },
     "execution_count": 25,
     "metadata": {},
     "output_type": "execute_result"
    }
   ],
   "source": [
    "# data distribution for sector\n",
    "consump_roadtransport['sector'].value_counts()"
   ]
  },
  {
   "cell_type": "code",
   "execution_count": 26,
   "id": "e298b3da",
   "metadata": {},
   "outputs": [
    {
     "data": {
      "text/plain": [
       "{'Albania',\n",
       " 'Austria',\n",
       " 'Belgium',\n",
       " 'Bosnia and Herzegovina',\n",
       " 'Bulgaria',\n",
       " 'Croatia',\n",
       " 'Cyprus',\n",
       " 'Czechia',\n",
       " 'Denmark',\n",
       " 'Estonia',\n",
       " 'Finland',\n",
       " 'France',\n",
       " 'Georgia',\n",
       " 'Germany',\n",
       " 'Greece',\n",
       " 'Hungary',\n",
       " 'Iceland',\n",
       " 'Ireland',\n",
       " 'Italy',\n",
       " 'Kosovo',\n",
       " 'Latvia',\n",
       " 'Lithuania',\n",
       " 'Luxembourg',\n",
       " 'Malta',\n",
       " 'Moldova',\n",
       " 'Montenegro',\n",
       " 'Netherlands',\n",
       " 'North Macedonia',\n",
       " 'Norway',\n",
       " 'Poland',\n",
       " 'Portugal',\n",
       " 'Romania',\n",
       " 'Serbia',\n",
       " 'Slovakia',\n",
       " 'Slovenia',\n",
       " 'Spain',\n",
       " 'Sweden',\n",
       " 'Turkey',\n",
       " 'Ukraine',\n",
       " 'United Kingdom'}"
      ]
     },
     "execution_count": 26,
     "metadata": {},
     "output_type": "execute_result"
    }
   ],
   "source": [
    "# remove rows related to 'EU27_2020' & 'EA19' & 'EA28' as they are summations for contries in EU and they are not helpful in our analysis\n",
    "consump_roadtransport.drop(consump_roadtransport[consump_roadtransport['country'].isin(['European Union - 27 countries (from 2020)',\n",
    "            'Euro area - 19 countries (from 2015)', 'European Union - 28 countries (2013-2020)'])].index, inplace=True)\n",
    "set(consump_roadtransport['country'])"
   ]
  },
  {
   "cell_type": "code",
   "execution_count": 27,
   "id": "97ad1773",
   "metadata": {},
   "outputs": [
    {
     "data": {
      "text/plain": [
       "country        0\n",
       "time-period    0\n",
       "sector         0\n",
       "energy-type    0\n",
       "value(KTOE)    0\n",
       "dtype: int64"
      ]
     },
     "execution_count": 27,
     "metadata": {},
     "output_type": "execute_result"
    }
   ],
   "source": [
    "# check for null values again\n",
    "consump_roadtransport.isnull().sum()"
   ]
  },
  {
   "cell_type": "code",
   "execution_count": 28,
   "id": "bd740f7b",
   "metadata": {},
   "outputs": [
    {
     "data": {
      "text/html": [
       "<div>\n",
       "<style scoped>\n",
       "    .dataframe tbody tr th:only-of-type {\n",
       "        vertical-align: middle;\n",
       "    }\n",
       "\n",
       "    .dataframe tbody tr th {\n",
       "        vertical-align: top;\n",
       "    }\n",
       "\n",
       "    .dataframe thead th {\n",
       "        text-align: right;\n",
       "    }\n",
       "</style>\n",
       "<table border=\"1\" class=\"dataframe\">\n",
       "  <thead>\n",
       "    <tr style=\"text-align: right;\">\n",
       "      <th></th>\n",
       "      <th>country</th>\n",
       "      <th>time-period</th>\n",
       "      <th>sector</th>\n",
       "      <th>energy-type</th>\n",
       "      <th>value(KTOE)</th>\n",
       "    </tr>\n",
       "  </thead>\n",
       "  <tbody>\n",
       "  </tbody>\n",
       "</table>\n",
       "</div>"
      ],
      "text/plain": [
       "Empty DataFrame\n",
       "Columns: [country, time-period, sector, energy-type, value(KTOE)]\n",
       "Index: []"
      ]
     },
     "execution_count": 28,
     "metadata": {},
     "output_type": "execute_result"
    }
   ],
   "source": [
    "# check for duplicity\n",
    "consump_roadtransport[consump_roadtransport.duplicated()]"
   ]
  },
  {
   "cell_type": "markdown",
   "id": "d009e6f1",
   "metadata": {},
   "source": [
    "There is no duplicated row"
   ]
  },
  {
   "cell_type": "code",
   "execution_count": 29,
   "id": "195831fb",
   "metadata": {},
   "outputs": [
    {
     "data": {
      "text/html": [
       "<div>\n",
       "<style scoped>\n",
       "    .dataframe tbody tr th:only-of-type {\n",
       "        vertical-align: middle;\n",
       "    }\n",
       "\n",
       "    .dataframe tbody tr th {\n",
       "        vertical-align: top;\n",
       "    }\n",
       "\n",
       "    .dataframe thead th {\n",
       "        text-align: right;\n",
       "    }\n",
       "</style>\n",
       "<table border=\"1\" class=\"dataframe\">\n",
       "  <thead>\n",
       "    <tr style=\"text-align: right;\">\n",
       "      <th></th>\n",
       "      <th>country</th>\n",
       "      <th>time-period</th>\n",
       "      <th>sector</th>\n",
       "      <th>energy-type</th>\n",
       "      <th>value(KTOE)</th>\n",
       "    </tr>\n",
       "  </thead>\n",
       "  <tbody>\n",
       "    <tr>\n",
       "      <th>0</th>\n",
       "      <td>Albania</td>\n",
       "      <td>2009</td>\n",
       "      <td>road-transport</td>\n",
       "      <td>Electricity</td>\n",
       "      <td>0.000</td>\n",
       "    </tr>\n",
       "    <tr>\n",
       "      <th>1</th>\n",
       "      <td>Albania</td>\n",
       "      <td>2010</td>\n",
       "      <td>road-transport</td>\n",
       "      <td>Electricity</td>\n",
       "      <td>0.000</td>\n",
       "    </tr>\n",
       "    <tr>\n",
       "      <th>2</th>\n",
       "      <td>Albania</td>\n",
       "      <td>2011</td>\n",
       "      <td>road-transport</td>\n",
       "      <td>Electricity</td>\n",
       "      <td>0.000</td>\n",
       "    </tr>\n",
       "    <tr>\n",
       "      <th>3</th>\n",
       "      <td>Albania</td>\n",
       "      <td>2012</td>\n",
       "      <td>road-transport</td>\n",
       "      <td>Electricity</td>\n",
       "      <td>0.000</td>\n",
       "    </tr>\n",
       "    <tr>\n",
       "      <th>4</th>\n",
       "      <td>Albania</td>\n",
       "      <td>2013</td>\n",
       "      <td>road-transport</td>\n",
       "      <td>Electricity</td>\n",
       "      <td>0.000</td>\n",
       "    </tr>\n",
       "    <tr>\n",
       "      <th>...</th>\n",
       "      <td>...</td>\n",
       "      <td>...</td>\n",
       "      <td>...</td>\n",
       "      <td>...</td>\n",
       "      <td>...</td>\n",
       "    </tr>\n",
       "    <tr>\n",
       "      <th>5623</th>\n",
       "      <td>Kosovo</td>\n",
       "      <td>2016</td>\n",
       "      <td>road-transport</td>\n",
       "      <td>Total</td>\n",
       "      <td>393.908</td>\n",
       "    </tr>\n",
       "    <tr>\n",
       "      <th>5624</th>\n",
       "      <td>Kosovo</td>\n",
       "      <td>2017</td>\n",
       "      <td>road-transport</td>\n",
       "      <td>Total</td>\n",
       "      <td>406.918</td>\n",
       "    </tr>\n",
       "    <tr>\n",
       "      <th>5625</th>\n",
       "      <td>Kosovo</td>\n",
       "      <td>2018</td>\n",
       "      <td>road-transport</td>\n",
       "      <td>Total</td>\n",
       "      <td>426.364</td>\n",
       "    </tr>\n",
       "    <tr>\n",
       "      <th>5626</th>\n",
       "      <td>Kosovo</td>\n",
       "      <td>2019</td>\n",
       "      <td>road-transport</td>\n",
       "      <td>Total</td>\n",
       "      <td>427.049</td>\n",
       "    </tr>\n",
       "    <tr>\n",
       "      <th>5627</th>\n",
       "      <td>Kosovo</td>\n",
       "      <td>2020</td>\n",
       "      <td>road-transport</td>\n",
       "      <td>Total</td>\n",
       "      <td>420.823</td>\n",
       "    </tr>\n",
       "  </tbody>\n",
       "</table>\n",
       "<p>5628 rows × 5 columns</p>\n",
       "</div>"
      ],
      "text/plain": [
       "      country  time-period          sector  energy-type  value(KTOE)\n",
       "0     Albania         2009  road-transport  Electricity        0.000\n",
       "1     Albania         2010  road-transport  Electricity        0.000\n",
       "2     Albania         2011  road-transport  Electricity        0.000\n",
       "3     Albania         2012  road-transport  Electricity        0.000\n",
       "4     Albania         2013  road-transport  Electricity        0.000\n",
       "...       ...          ...             ...          ...          ...\n",
       "5623   Kosovo         2016  road-transport        Total      393.908\n",
       "5624   Kosovo         2017  road-transport        Total      406.918\n",
       "5625   Kosovo         2018  road-transport        Total      426.364\n",
       "5626   Kosovo         2019  road-transport        Total      427.049\n",
       "5627   Kosovo         2020  road-transport        Total      420.823\n",
       "\n",
       "[5628 rows x 5 columns]"
      ]
     },
     "execution_count": 29,
     "metadata": {},
     "output_type": "execute_result"
    }
   ],
   "source": [
    "# reset index for new dataset\n",
    "consump_roadtransport.reset_index(drop=True, inplace=True)\n",
    "consump_roadtransport"
   ]
  },
  {
   "cell_type": "code",
   "execution_count": null,
   "id": "5559e8aa",
   "metadata": {},
   "outputs": [],
   "source": []
  },
  {
   "cell_type": "markdown",
   "id": "68d398cd",
   "metadata": {},
   "source": [
    "# The final form of the 'consum_roadtransport' data frame will be as follow"
   ]
  },
  {
   "cell_type": "code",
   "execution_count": 30,
   "id": "aba128f5",
   "metadata": {},
   "outputs": [
    {
     "data": {
      "text/html": [
       "<div>\n",
       "<style scoped>\n",
       "    .dataframe tbody tr th:only-of-type {\n",
       "        vertical-align: middle;\n",
       "    }\n",
       "\n",
       "    .dataframe tbody tr th {\n",
       "        vertical-align: top;\n",
       "    }\n",
       "\n",
       "    .dataframe thead th {\n",
       "        text-align: right;\n",
       "    }\n",
       "</style>\n",
       "<table border=\"1\" class=\"dataframe\">\n",
       "  <thead>\n",
       "    <tr style=\"text-align: right;\">\n",
       "      <th></th>\n",
       "      <th>country</th>\n",
       "      <th>time-period</th>\n",
       "      <th>sector</th>\n",
       "      <th>energy-type</th>\n",
       "      <th>value(KTOE)</th>\n",
       "    </tr>\n",
       "  </thead>\n",
       "  <tbody>\n",
       "    <tr>\n",
       "      <th>0</th>\n",
       "      <td>Albania</td>\n",
       "      <td>2009</td>\n",
       "      <td>road-transport</td>\n",
       "      <td>Electricity</td>\n",
       "      <td>0.0</td>\n",
       "    </tr>\n",
       "    <tr>\n",
       "      <th>1</th>\n",
       "      <td>Albania</td>\n",
       "      <td>2010</td>\n",
       "      <td>road-transport</td>\n",
       "      <td>Electricity</td>\n",
       "      <td>0.0</td>\n",
       "    </tr>\n",
       "    <tr>\n",
       "      <th>2</th>\n",
       "      <td>Albania</td>\n",
       "      <td>2011</td>\n",
       "      <td>road-transport</td>\n",
       "      <td>Electricity</td>\n",
       "      <td>0.0</td>\n",
       "    </tr>\n",
       "    <tr>\n",
       "      <th>3</th>\n",
       "      <td>Albania</td>\n",
       "      <td>2012</td>\n",
       "      <td>road-transport</td>\n",
       "      <td>Electricity</td>\n",
       "      <td>0.0</td>\n",
       "    </tr>\n",
       "    <tr>\n",
       "      <th>4</th>\n",
       "      <td>Albania</td>\n",
       "      <td>2013</td>\n",
       "      <td>road-transport</td>\n",
       "      <td>Electricity</td>\n",
       "      <td>0.0</td>\n",
       "    </tr>\n",
       "  </tbody>\n",
       "</table>\n",
       "</div>"
      ],
      "text/plain": [
       "   country  time-period          sector  energy-type  value(KTOE)\n",
       "0  Albania         2009  road-transport  Electricity          0.0\n",
       "1  Albania         2010  road-transport  Electricity          0.0\n",
       "2  Albania         2011  road-transport  Electricity          0.0\n",
       "3  Albania         2012  road-transport  Electricity          0.0\n",
       "4  Albania         2013  road-transport  Electricity          0.0"
      ]
     },
     "execution_count": 30,
     "metadata": {},
     "output_type": "execute_result"
    }
   ],
   "source": [
    "consump_roadtransport.head()"
   ]
  },
  {
   "cell_type": "code",
   "execution_count": 31,
   "id": "d4820e86",
   "metadata": {},
   "outputs": [
    {
     "data": {
      "text/plain": [
       "(5628, 5)"
      ]
     },
     "execution_count": 31,
     "metadata": {},
     "output_type": "execute_result"
    }
   ],
   "source": [
    "consump_roadtransport.shape"
   ]
  },
  {
   "cell_type": "code",
   "execution_count": 32,
   "id": "62293485",
   "metadata": {},
   "outputs": [
    {
     "name": "stdout",
     "output_type": "stream",
     "text": [
      "<class 'pandas.core.frame.DataFrame'>\n",
      "RangeIndex: 5628 entries, 0 to 5627\n",
      "Data columns (total 5 columns):\n",
      " #   Column       Non-Null Count  Dtype  \n",
      "---  ------       --------------  -----  \n",
      " 0   country      5628 non-null   object \n",
      " 1   time-period  5628 non-null   int64  \n",
      " 2   sector       5628 non-null   object \n",
      " 3   energy-type  5628 non-null   object \n",
      " 4   value(KTOE)  5628 non-null   float64\n",
      "dtypes: float64(1), int64(1), object(3)\n",
      "memory usage: 220.0+ KB\n"
     ]
    }
   ],
   "source": [
    "consump_roadtransport.info()"
   ]
  },
  {
   "cell_type": "code",
   "execution_count": 33,
   "id": "00fe456a",
   "metadata": {},
   "outputs": [
    {
     "data": {
      "text/html": [
       "<div>\n",
       "<style scoped>\n",
       "    .dataframe tbody tr th:only-of-type {\n",
       "        vertical-align: middle;\n",
       "    }\n",
       "\n",
       "    .dataframe tbody tr th {\n",
       "        vertical-align: top;\n",
       "    }\n",
       "\n",
       "    .dataframe thead th {\n",
       "        text-align: right;\n",
       "    }\n",
       "</style>\n",
       "<table border=\"1\" class=\"dataframe\">\n",
       "  <thead>\n",
       "    <tr style=\"text-align: right;\">\n",
       "      <th></th>\n",
       "      <th>time-period</th>\n",
       "      <th>value(KTOE)</th>\n",
       "    </tr>\n",
       "  </thead>\n",
       "  <tbody>\n",
       "    <tr>\n",
       "      <th>count</th>\n",
       "      <td>5628.000000</td>\n",
       "      <td>5628.000000</td>\n",
       "    </tr>\n",
       "    <tr>\n",
       "      <th>mean</th>\n",
       "      <td>2014.571429</td>\n",
       "      <td>1408.458505</td>\n",
       "    </tr>\n",
       "    <tr>\n",
       "      <th>std</th>\n",
       "      <td>3.430031</td>\n",
       "      <td>5205.326314</td>\n",
       "    </tr>\n",
       "    <tr>\n",
       "      <th>min</th>\n",
       "      <td>2009.000000</td>\n",
       "      <td>0.000000</td>\n",
       "    </tr>\n",
       "    <tr>\n",
       "      <th>25%</th>\n",
       "      <td>2012.000000</td>\n",
       "      <td>0.000000</td>\n",
       "    </tr>\n",
       "    <tr>\n",
       "      <th>50%</th>\n",
       "      <td>2015.000000</td>\n",
       "      <td>4.122000</td>\n",
       "    </tr>\n",
       "    <tr>\n",
       "      <th>75%</th>\n",
       "      <td>2018.000000</td>\n",
       "      <td>327.261250</td>\n",
       "    </tr>\n",
       "    <tr>\n",
       "      <th>max</th>\n",
       "      <td>2020.000000</td>\n",
       "      <td>54584.037000</td>\n",
       "    </tr>\n",
       "  </tbody>\n",
       "</table>\n",
       "</div>"
      ],
      "text/plain": [
       "       time-period   value(KTOE)\n",
       "count  5628.000000   5628.000000\n",
       "mean   2014.571429   1408.458505\n",
       "std       3.430031   5205.326314\n",
       "min    2009.000000      0.000000\n",
       "25%    2012.000000      0.000000\n",
       "50%    2015.000000      4.122000\n",
       "75%    2018.000000    327.261250\n",
       "max    2020.000000  54584.037000"
      ]
     },
     "execution_count": 33,
     "metadata": {},
     "output_type": "execute_result"
    }
   ],
   "source": [
    "consump_roadtransport.describe()\n"
   ]
  },
  {
   "cell_type": "code",
   "execution_count": 34,
   "id": "5445c901",
   "metadata": {},
   "outputs": [
    {
     "data": {
      "text/plain": [
       "<Axes: ylabel='Frequency'>"
      ]
     },
     "execution_count": 34,
     "metadata": {},
     "output_type": "execute_result"
    },
    {
     "data": {
      "image/png": "[encoded data removed]",
      "text/plain": [
       "<Figure size 640x480 with 1 Axes>"
      ]
     },
     "metadata": {},
     "output_type": "display_data"
    }
   ],
   "source": [
    "consump_roadtransport['value(KTOE)'].plot.hist(bins=50)"
   ]
  },
  {
   "cell_type": "code",
   "execution_count": 35,
   "id": "b3758d11",
   "metadata": {},
   "outputs": [],
   "source": [
    "# Save data set in pickle and csv formats\n",
    "consump_roadtransport.to_csv(os.path.join(path, '2 Data set', 'Modified', 'consump_roadtransport.csv'))\n",
    "consump_roadtransport.to_pickle(os.path.join(path, '2 Data set', 'Modified', 'consump_roadtransport.pkl'))"
   ]
  },
  {
   "cell_type": "code",
   "execution_count": null,
   "id": "65cfc470",
   "metadata": {},
   "outputs": [],
   "source": []
  }
 ],
 "metadata": {
  "kernelspec": {
   "display_name": "Python 3 (ipykernel)",
   "language": "python",
   "name": "python3"
  },
  "language_info": {
   "codemirror_mode": {
    "name": "ipython",
    "version": 3
   },
   "file_extension": ".py",
   "mimetype": "text/x-python",
   "name": "python",
   "nbconvert_exporter": "python",
   "pygments_lexer": "ipython3",
   "version": "3.10.9"
  }
 },
 "nbformat": 4,
 "nbformat_minor": 5
}
